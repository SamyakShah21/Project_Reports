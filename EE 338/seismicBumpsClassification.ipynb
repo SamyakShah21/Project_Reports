{
  "nbformat": 4,
  "nbformat_minor": 0,
  "metadata": {
    "colab": {
      "name": "seismicBumpsClassification.ipynb",
      "provenance": []
    },
    "kernelspec": {
      "name": "python3",
      "display_name": "Python 3"
    }
  },
  "cells": [
    {
      "cell_type": "markdown",
      "metadata": {
        "id": "NGxR4-cdGab2"
      },
      "source": [
        "EE338 Group 24\n",
        "#### This is the classification code for the Seismic Bumps dataset from [UCI Machine Learning Repository](https://archive.ics.uci.edu/ml/datasets/seismic-bumps). Here we will compare three methods of classification and retain the one which works best for this particular scenario. The dataset was first converted to csv file for easy input via pandas."
      ]
    },
    {
      "cell_type": "code",
      "metadata": {
        "id": "usb-zrXzGSsc"
      },
      "source": [
        "import pandas as pd\n",
        "import numpy as np\n",
        "from sklearn.preprocessing import StandardScaler, LabelEncoder, OneHotEncoder\n",
        "from sklearn.metrics import confusion_matrix, accuracy_score\n",
        "from sklearn.model_selection import train_test_split\n",
        "from sklearn.linear_model import LogisticRegression\n",
        "from sklearn.ensemble import RandomForestClassifier\n",
        "from sklearn.neighbors import KNeighborsClassifier"
      ],
      "execution_count": 1,
      "outputs": []
    },
    {
      "cell_type": "markdown",
      "metadata": {
        "id": "tfZwsECVHwP3"
      },
      "source": [
        "We will explore KNN, Random Forest and Logistic Regression for our project."
      ]
    },
    {
      "cell_type": "markdown",
      "metadata": {
        "id": "o8yEyD8-JL85"
      },
      "source": [
        "#### Attribute Information:\n",
        "Attribute information:\n",
        "1. **seismic**: result of shift seismic hazard assessment in the mine working obtained by the seismic\n",
        "method (a - lack of hazard, b - low hazard, c - high hazard, d - danger state);\n",
        "2. **seismoacoustic**: result of shift seismic hazard assessment in the mine working obtained by the\n",
        "seismoacoustic method;\n",
        "3. **shift**: information about type of a shift (W - coal-getting, N -preparation shift);\n",
        "4. **genergy**: seismic energy recorded within previous shift by the most active geophone (GMax) out of\n",
        "geophones monitoring the longwall;\n",
        "5. **gpuls**: a number of pulses recorded within previous shift by GMax;\n",
        "6. **gdenergy**: a deviation of energy recorded within previous shift by GMax from average energy recorded\n",
        "during eight previous shifts;\n",
        "7. **gdpuls**: a deviation of a number of pulses recorded within previous shift by GMax from average number\n",
        "of pulses recorded during eight previous shifts;\n",
        "8. **ghazard**: result of shift seismic hazard assessment in the mine working obtained by the\n",
        "seismoacoustic method based on registration coming form GMax only;\n",
        "9. **nbumps**: the number of seismic bumps recorded within previous shift;\n",
        "10. **nbumps2**: the number of seismic bumps (in energy range [10^2,10^3)) registered within previous shift;\n",
        "11. **nbumps3**: the number of seismic bumps (in energy range [10^3,10^4)) registered within previous shift;\n",
        "12. **nbumps4**: the number of seismic bumps (in energy range [10^4,10^5)) registered within previous shift;\n",
        "13. **nbumps5**: the number of seismic bumps (in energy range [10^5,10^6)) registered within the last shift;\n",
        "14. **nbumps6**: the number of seismic bumps (in energy range [10^6,10^7)) registered within previous shift;\n",
        "15. **nbumps7**: the number of seismic bumps (in energy range [10^7,10^8)) registered within previous shift;\n",
        "16. **nbumps89**: the number of seismic bumps (in energy range [10^8,10^10)) registered within previous shift;\n",
        "17. **energy**: total energy of seismic bumps registered within previous shift;\n",
        "18. **maxenergy**: the maximum energy of the seismic bumps registered within previous shift;\n",
        "19. **class**: the decision attribute - '1' means that high energy seismic bump occurred in the next shift\n",
        "('hazardous state'), '0' means that no high energy seismic bumps occurred in the next shift\n",
        "('non-hazardous state')."
      ]
    },
    {
      "cell_type": "code",
      "metadata": {
        "colab": {
          "base_uri": "https://localhost:8080/",
          "height": 415
        },
        "id": "X_yfLxafHqOC",
        "outputId": "3620afb4-0369-4b41-e8c0-dfb44d1417a0"
      },
      "source": [
        "model_accuracies = {'LogReg':0, 'RF':0, 'KNN':0}\n",
        "df = pd.read_csv('https://drive.google.com/uc?export=download&id=1EWQI6RC1a_QjNgH3_MBB88cxCIhpQ641', header = None)\n",
        "display(df)"
      ],
      "execution_count": 2,
      "outputs": [
        {
          "output_type": "display_data",
          "data": {
            "text/html": [
              "<div>\n",
              "<style scoped>\n",
              "    .dataframe tbody tr th:only-of-type {\n",
              "        vertical-align: middle;\n",
              "    }\n",
              "\n",
              "    .dataframe tbody tr th {\n",
              "        vertical-align: top;\n",
              "    }\n",
              "\n",
              "    .dataframe thead th {\n",
              "        text-align: right;\n",
              "    }\n",
              "</style>\n",
              "<table border=\"1\" class=\"dataframe\">\n",
              "  <thead>\n",
              "    <tr style=\"text-align: right;\">\n",
              "      <th></th>\n",
              "      <th>0</th>\n",
              "      <th>1</th>\n",
              "      <th>2</th>\n",
              "      <th>3</th>\n",
              "      <th>4</th>\n",
              "      <th>5</th>\n",
              "      <th>6</th>\n",
              "      <th>7</th>\n",
              "      <th>8</th>\n",
              "      <th>9</th>\n",
              "      <th>10</th>\n",
              "      <th>11</th>\n",
              "      <th>12</th>\n",
              "      <th>13</th>\n",
              "      <th>14</th>\n",
              "      <th>15</th>\n",
              "      <th>16</th>\n",
              "      <th>17</th>\n",
              "      <th>18</th>\n",
              "    </tr>\n",
              "  </thead>\n",
              "  <tbody>\n",
              "    <tr>\n",
              "      <th>0</th>\n",
              "      <td>a</td>\n",
              "      <td>a</td>\n",
              "      <td>N</td>\n",
              "      <td>15180</td>\n",
              "      <td>48</td>\n",
              "      <td>-72</td>\n",
              "      <td>-72</td>\n",
              "      <td>a</td>\n",
              "      <td>0</td>\n",
              "      <td>0</td>\n",
              "      <td>0</td>\n",
              "      <td>0</td>\n",
              "      <td>0</td>\n",
              "      <td>0</td>\n",
              "      <td>0</td>\n",
              "      <td>0</td>\n",
              "      <td>0</td>\n",
              "      <td>0</td>\n",
              "      <td>0</td>\n",
              "    </tr>\n",
              "    <tr>\n",
              "      <th>1</th>\n",
              "      <td>a</td>\n",
              "      <td>a</td>\n",
              "      <td>N</td>\n",
              "      <td>14720</td>\n",
              "      <td>33</td>\n",
              "      <td>-70</td>\n",
              "      <td>-79</td>\n",
              "      <td>a</td>\n",
              "      <td>1</td>\n",
              "      <td>0</td>\n",
              "      <td>1</td>\n",
              "      <td>0</td>\n",
              "      <td>0</td>\n",
              "      <td>0</td>\n",
              "      <td>0</td>\n",
              "      <td>0</td>\n",
              "      <td>2000</td>\n",
              "      <td>2000</td>\n",
              "      <td>0</td>\n",
              "    </tr>\n",
              "    <tr>\n",
              "      <th>2</th>\n",
              "      <td>a</td>\n",
              "      <td>a</td>\n",
              "      <td>N</td>\n",
              "      <td>8050</td>\n",
              "      <td>30</td>\n",
              "      <td>-81</td>\n",
              "      <td>-78</td>\n",
              "      <td>a</td>\n",
              "      <td>0</td>\n",
              "      <td>0</td>\n",
              "      <td>0</td>\n",
              "      <td>0</td>\n",
              "      <td>0</td>\n",
              "      <td>0</td>\n",
              "      <td>0</td>\n",
              "      <td>0</td>\n",
              "      <td>0</td>\n",
              "      <td>0</td>\n",
              "      <td>0</td>\n",
              "    </tr>\n",
              "    <tr>\n",
              "      <th>3</th>\n",
              "      <td>a</td>\n",
              "      <td>a</td>\n",
              "      <td>N</td>\n",
              "      <td>28820</td>\n",
              "      <td>171</td>\n",
              "      <td>-23</td>\n",
              "      <td>40</td>\n",
              "      <td>a</td>\n",
              "      <td>1</td>\n",
              "      <td>0</td>\n",
              "      <td>1</td>\n",
              "      <td>0</td>\n",
              "      <td>0</td>\n",
              "      <td>0</td>\n",
              "      <td>0</td>\n",
              "      <td>0</td>\n",
              "      <td>3000</td>\n",
              "      <td>3000</td>\n",
              "      <td>0</td>\n",
              "    </tr>\n",
              "    <tr>\n",
              "      <th>4</th>\n",
              "      <td>a</td>\n",
              "      <td>a</td>\n",
              "      <td>N</td>\n",
              "      <td>12640</td>\n",
              "      <td>57</td>\n",
              "      <td>-63</td>\n",
              "      <td>-52</td>\n",
              "      <td>a</td>\n",
              "      <td>0</td>\n",
              "      <td>0</td>\n",
              "      <td>0</td>\n",
              "      <td>0</td>\n",
              "      <td>0</td>\n",
              "      <td>0</td>\n",
              "      <td>0</td>\n",
              "      <td>0</td>\n",
              "      <td>0</td>\n",
              "      <td>0</td>\n",
              "      <td>0</td>\n",
              "    </tr>\n",
              "    <tr>\n",
              "      <th>...</th>\n",
              "      <td>...</td>\n",
              "      <td>...</td>\n",
              "      <td>...</td>\n",
              "      <td>...</td>\n",
              "      <td>...</td>\n",
              "      <td>...</td>\n",
              "      <td>...</td>\n",
              "      <td>...</td>\n",
              "      <td>...</td>\n",
              "      <td>...</td>\n",
              "      <td>...</td>\n",
              "      <td>...</td>\n",
              "      <td>...</td>\n",
              "      <td>...</td>\n",
              "      <td>...</td>\n",
              "      <td>...</td>\n",
              "      <td>...</td>\n",
              "      <td>...</td>\n",
              "      <td>...</td>\n",
              "    </tr>\n",
              "    <tr>\n",
              "      <th>2579</th>\n",
              "      <td>b</td>\n",
              "      <td>a</td>\n",
              "      <td>W</td>\n",
              "      <td>81410</td>\n",
              "      <td>785</td>\n",
              "      <td>432</td>\n",
              "      <td>151</td>\n",
              "      <td>b</td>\n",
              "      <td>0</td>\n",
              "      <td>0</td>\n",
              "      <td>0</td>\n",
              "      <td>0</td>\n",
              "      <td>0</td>\n",
              "      <td>0</td>\n",
              "      <td>0</td>\n",
              "      <td>0</td>\n",
              "      <td>0</td>\n",
              "      <td>0</td>\n",
              "      <td>0</td>\n",
              "    </tr>\n",
              "    <tr>\n",
              "      <th>2580</th>\n",
              "      <td>b</td>\n",
              "      <td>a</td>\n",
              "      <td>W</td>\n",
              "      <td>42110</td>\n",
              "      <td>555</td>\n",
              "      <td>213</td>\n",
              "      <td>118</td>\n",
              "      <td>a</td>\n",
              "      <td>0</td>\n",
              "      <td>0</td>\n",
              "      <td>0</td>\n",
              "      <td>0</td>\n",
              "      <td>0</td>\n",
              "      <td>0</td>\n",
              "      <td>0</td>\n",
              "      <td>0</td>\n",
              "      <td>0</td>\n",
              "      <td>0</td>\n",
              "      <td>0</td>\n",
              "    </tr>\n",
              "    <tr>\n",
              "      <th>2581</th>\n",
              "      <td>b</td>\n",
              "      <td>a</td>\n",
              "      <td>W</td>\n",
              "      <td>26960</td>\n",
              "      <td>540</td>\n",
              "      <td>101</td>\n",
              "      <td>112</td>\n",
              "      <td>a</td>\n",
              "      <td>0</td>\n",
              "      <td>0</td>\n",
              "      <td>0</td>\n",
              "      <td>0</td>\n",
              "      <td>0</td>\n",
              "      <td>0</td>\n",
              "      <td>0</td>\n",
              "      <td>0</td>\n",
              "      <td>0</td>\n",
              "      <td>0</td>\n",
              "      <td>0</td>\n",
              "    </tr>\n",
              "    <tr>\n",
              "      <th>2582</th>\n",
              "      <td>a</td>\n",
              "      <td>a</td>\n",
              "      <td>W</td>\n",
              "      <td>16130</td>\n",
              "      <td>322</td>\n",
              "      <td>2</td>\n",
              "      <td>2</td>\n",
              "      <td>a</td>\n",
              "      <td>0</td>\n",
              "      <td>0</td>\n",
              "      <td>0</td>\n",
              "      <td>0</td>\n",
              "      <td>0</td>\n",
              "      <td>0</td>\n",
              "      <td>0</td>\n",
              "      <td>0</td>\n",
              "      <td>0</td>\n",
              "      <td>0</td>\n",
              "      <td>0</td>\n",
              "    </tr>\n",
              "    <tr>\n",
              "      <th>2583</th>\n",
              "      <td>a</td>\n",
              "      <td>a</td>\n",
              "      <td>W</td>\n",
              "      <td>12750</td>\n",
              "      <td>235</td>\n",
              "      <td>-10</td>\n",
              "      <td>-10</td>\n",
              "      <td>a</td>\n",
              "      <td>0</td>\n",
              "      <td>0</td>\n",
              "      <td>0</td>\n",
              "      <td>0</td>\n",
              "      <td>0</td>\n",
              "      <td>0</td>\n",
              "      <td>0</td>\n",
              "      <td>0</td>\n",
              "      <td>0</td>\n",
              "      <td>0</td>\n",
              "      <td>0</td>\n",
              "    </tr>\n",
              "  </tbody>\n",
              "</table>\n",
              "<p>2584 rows × 19 columns</p>\n",
              "</div>"
            ],
            "text/plain": [
              "     0  1  2      3    4    5    6  7   ...  11  12  13  14  15    16    17  18\n",
              "0     a  a  N  15180   48  -72  -72  a  ...   0   0   0   0   0     0     0   0\n",
              "1     a  a  N  14720   33  -70  -79  a  ...   0   0   0   0   0  2000  2000   0\n",
              "2     a  a  N   8050   30  -81  -78  a  ...   0   0   0   0   0     0     0   0\n",
              "3     a  a  N  28820  171  -23   40  a  ...   0   0   0   0   0  3000  3000   0\n",
              "4     a  a  N  12640   57  -63  -52  a  ...   0   0   0   0   0     0     0   0\n",
              "...  .. .. ..    ...  ...  ...  ... ..  ...  ..  ..  ..  ..  ..   ...   ...  ..\n",
              "2579  b  a  W  81410  785  432  151  b  ...   0   0   0   0   0     0     0   0\n",
              "2580  b  a  W  42110  555  213  118  a  ...   0   0   0   0   0     0     0   0\n",
              "2581  b  a  W  26960  540  101  112  a  ...   0   0   0   0   0     0     0   0\n",
              "2582  a  a  W  16130  322    2    2  a  ...   0   0   0   0   0     0     0   0\n",
              "2583  a  a  W  12750  235  -10  -10  a  ...   0   0   0   0   0     0     0   0\n",
              "\n",
              "[2584 rows x 19 columns]"
            ]
          },
          "metadata": {
            "tags": []
          }
        }
      ]
    },
    {
      "cell_type": "code",
      "metadata": {
        "id": "iyFaZ70hKNc_"
      },
      "source": [
        "X = df.iloc[:, 0:18].values\n",
        "y = df.iloc[:, 18].values\n",
        "\n",
        "le_y = LabelEncoder()\n",
        "y = le_y.fit_transform(y)\n",
        "le_X = LabelEncoder()\n",
        "X[:, 0] = le_X.fit_transform(X[:, 0])\n",
        "X[:, 1] = le_X.fit_transform(X[:, 1])\n",
        "X[:, 2] = le_X.fit_transform(X[:, 2])\n",
        "X[:, 7] = le_X.fit_transform(X[:, 7])"
      ],
      "execution_count": 3,
      "outputs": []
    },
    {
      "cell_type": "code",
      "metadata": {
        "colab": {
          "base_uri": "https://localhost:8080/"
        },
        "id": "scfpmj43L2lg",
        "outputId": "3893dbaa-9206-4182-9b3a-217c99f6f474"
      },
      "source": [
        "sc_X = StandardScaler()\n",
        "X = sc_X.fit_transform(X)\n",
        "print(X)"
      ],
      "execution_count": 4,
      "outputs": [
        {
          "output_type": "stream",
          "text": [
            "[[-0.73230209 -0.77142023 -1.34374329 ...  0.         -0.24332671\n",
            "  -0.22108685]\n",
            " [-0.73230209 -0.77142023 -1.34374329 ...  0.         -0.14551225\n",
            "  -0.11774749]\n",
            " [-0.73230209 -0.77142023 -1.34374329 ...  0.         -0.24332671\n",
            "  -0.22108685]\n",
            " ...\n",
            " [ 1.36555667 -0.77142023  0.74418976 ...  0.         -0.24332671\n",
            "  -0.22108685]\n",
            " [-0.73230209 -0.77142023  0.74418976 ...  0.         -0.24332671\n",
            "  -0.22108685]\n",
            " [-0.73230209 -0.77142023  0.74418976 ...  0.         -0.24332671\n",
            "  -0.22108685]]\n"
          ],
          "name": "stdout"
        }
      ]
    },
    {
      "cell_type": "code",
      "metadata": {
        "colab": {
          "base_uri": "https://localhost:8080/",
          "height": 503
        },
        "id": "-nUJG3QxMj8X",
        "outputId": "b31bb143-1a2d-4666-8917-533dce62d7df"
      },
      "source": [
        "X_train, X_test, Y_train, Y_test = train_test_split(X, y, test_size = 0.2, random_state = 1)\n",
        "display(X_train, X_train.shape)\n",
        "display(X_test, X_test.shape)"
      ],
      "execution_count": 5,
      "outputs": [
        {
          "output_type": "display_data",
          "data": {
            "text/plain": [
              "array([[-0.73230209, -0.77142023, -1.34374329, ...,  0.        ,\n",
              "        -0.24332671, -0.22108685],\n",
              "       [-0.73230209, -0.77142023, -1.34374329, ...,  0.        ,\n",
              "        -0.24332671, -0.22108685],\n",
              "       [ 1.36555667, -0.77142023,  0.74418976, ...,  0.        ,\n",
              "         1.08205916,  0.8123068 ],\n",
              "       ...,\n",
              "       [-0.73230209,  1.12339905, -1.34374329, ...,  0.        ,\n",
              "        -0.24332671, -0.22108685],\n",
              "       [-0.73230209,  1.12339905, -1.34374329, ...,  0.        ,\n",
              "         0.05011666,  0.08893124],\n",
              "       [-0.73230209, -0.77142023, -1.34374329, ...,  0.        ,\n",
              "        -0.24332671, -0.22108685]])"
            ]
          },
          "metadata": {
            "tags": []
          }
        },
        {
          "output_type": "display_data",
          "data": {
            "text/plain": [
              "(2067, 18)"
            ]
          },
          "metadata": {
            "tags": []
          }
        },
        {
          "output_type": "display_data",
          "data": {
            "text/plain": [
              "array([[ 1.36555667,  1.12339905,  0.74418976, ...,  0.        ,\n",
              "        -0.24332671, -0.22108685],\n",
              "       [-0.73230209, -0.77142023, -1.34374329, ...,  0.        ,\n",
              "        -0.22376382, -0.20041898],\n",
              "       [-0.73230209, -0.77142023,  0.74418976, ...,  0.        ,\n",
              "        -0.24332671, -0.22108685],\n",
              "       ...,\n",
              "       [-0.73230209, -0.77142023,  0.74418976, ...,  0.        ,\n",
              "        -0.24332671, -0.22108685],\n",
              "       [-0.73230209,  1.12339905,  0.74418976, ...,  0.        ,\n",
              "        -0.16507514, -0.16941717],\n",
              "       [ 1.36555667,  1.12339905,  0.74418976, ...,  0.        ,\n",
              "        -0.24332671, -0.22108685]])"
            ]
          },
          "metadata": {
            "tags": []
          }
        },
        {
          "output_type": "display_data",
          "data": {
            "text/plain": [
              "(517, 18)"
            ]
          },
          "metadata": {
            "tags": []
          }
        }
      ]
    },
    {
      "cell_type": "markdown",
      "metadata": {
        "id": "waEX4kk9M76d"
      },
      "source": [
        "### Random Forest Classifier"
      ]
    },
    {
      "cell_type": "code",
      "metadata": {
        "colab": {
          "base_uri": "https://localhost:8080/"
        },
        "id": "77iSgVtfM-V1",
        "outputId": "29284e43-2fdb-4158-a423-9a6f46ee930f"
      },
      "source": [
        "rf = RandomForestClassifier(n_estimators = 10, criterion = 'entropy')\n",
        "rf.fit(X_train, Y_train)\n",
        "Y_pred = rf.predict(X_test)\n",
        "print(confusion_matrix(Y_test, Y_pred))\n",
        "model_accuracies['RF'] = accuracy_score(Y_test, Y_pred)\n",
        "print(model_accuracies['RF'])"
      ],
      "execution_count": 6,
      "outputs": [
        {
          "output_type": "stream",
          "text": [
            "[[482   6]\n",
            " [ 28   1]]\n",
            "0.9342359767891683\n"
          ],
          "name": "stdout"
        }
      ]
    },
    {
      "cell_type": "markdown",
      "metadata": {
        "id": "hVZ8O0QdNbM5"
      },
      "source": [
        "### Logistic Regression"
      ]
    },
    {
      "cell_type": "code",
      "metadata": {
        "colab": {
          "base_uri": "https://localhost:8080/"
        },
        "id": "WXfEzLQVNZ3_",
        "outputId": "5176e920-72d0-4532-ce24-947a5e6e911d"
      },
      "source": [
        "lr = LogisticRegression()\n",
        "lr.fit(X_train, Y_train)\n",
        "Y_pred = lr.predict(X_test)\n",
        "print(confusion_matrix(Y_test, Y_pred))\n",
        "model_accuracies['LR'] = accuracy_score(Y_test, Y_pred)\n",
        "print(model_accuracies['LR'])"
      ],
      "execution_count": 7,
      "outputs": [
        {
          "output_type": "stream",
          "text": [
            "[[485   3]\n",
            " [ 28   1]]\n",
            "0.9400386847195358\n"
          ],
          "name": "stdout"
        }
      ]
    },
    {
      "cell_type": "markdown",
      "metadata": {
        "id": "5yOVBl47XRL5"
      },
      "source": [
        "### K Nearest Neighbours"
      ]
    },
    {
      "cell_type": "code",
      "metadata": {
        "colab": {
          "base_uri": "https://localhost:8080/"
        },
        "id": "fOrLgvu8XYtm",
        "outputId": "5041bd41-ff63-49f2-fd89-a483f59c5953"
      },
      "source": [
        "knn = KNeighborsClassifier(n_neighbors = 5)\n",
        "knn.fit(X_train, Y_train)\n",
        "Y_pred = knn.predict(X_test)\n",
        "print(confusion_matrix(Y_test, Y_pred))\n",
        "model_accuracies['KNN'] = accuracy_score(Y_test, Y_pred)\n",
        "print(model_accuracies['KNN'])\n"
      ],
      "execution_count": 8,
      "outputs": [
        {
          "output_type": "stream",
          "text": [
            "[[477  11]\n",
            " [ 29   0]]\n",
            "0.9226305609284333\n"
          ],
          "name": "stdout"
        }
      ]
    },
    {
      "cell_type": "markdown",
      "metadata": {
        "id": "RrPaInzjXzjx"
      },
      "source": [
        "**Logistic Regression**, even though the most simplistic model out of the three, gives the maximum accuracy among these. One may choose any other classifier if his or her aim is different (for e.g. one may choose to have the least number of false negatives or false positives.)  \n",
        "Although all three models have high accuracy score >90%."
      ]
    }
  ]
}